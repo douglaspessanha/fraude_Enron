{
 "cells": [
  {
   "cell_type": "markdown",
   "id": "f459111e",
   "metadata": {},
   "source": [
    "# Relatório Final - ATP de Preparação e Análise Exploratória de Dados\n",
    "# Curso de Tecnologia em Big Data e Inteligência Analítica\n",
    "# Pontifícia Universidade Católica do Paraná (PUCPR)\n",
    "\n",
    "Aluno: Douglas Branco Pessanha Lopes - email- douglaspessanha@protonmail.com\n"
   ]
  },
  {
   "cell_type": "markdown",
   "id": "c9a50360",
   "metadata": {},
   "source": [
    "## 1. Introdução\n",
    "Nesta atividade prática desenvolveremos a análise dos dados da empresa Enron. Esta foi uma grande empresa de energia nos EUA que foi a falência após serem descobertas fraudes em seus relatórios financeiros e contábeis. Foi elaborado um refinado sistema envolvendo diversas área da empresa para ocultar prejuízos e investimentos equivocados. Após a descoberta da fraude houve uma profunda investigação governamental para averiguar o ocorrido.\n",
    "A base de dados apresenta uma série de informações sobre a companhia e os funcionários dela. Os funcionários serão divididos entre People of Interest (POI), aqueles que participaram da fraude, e os demais. Procuraremos insights sobre o perfil do tipo de funcionário que participou da fraude."
   ]
  },
  {
   "cell_type": "markdown",
   "id": "a8a2c9e5",
   "metadata": {},
   "source": [
    "importa bibliotecas a serem utilizadas"
   ]
  },
  {
   "cell_type": "code",
   "execution_count": 1,
   "id": "db22276b",
   "metadata": {},
   "outputs": [],
   "source": [
    "import numpy as np\n",
    "import pandas as pd\n",
    "import matplotlib.pyplot as plt\n",
    "import seaborn as sns\n",
    "import scipy\n",
    "%matplotlib inline"
   ]
  },
  {
   "cell_type": "markdown",
   "id": "5c026d88",
   "metadata": {},
   "source": [
    "carrega o csv do computador"
   ]
  },
  {
   "cell_type": "code",
   "execution_count": 2,
   "id": "2394520b",
   "metadata": {},
   "outputs": [],
   "source": [
    "df = pd.read_csv(\"/home/douglas/PUC_disciplinas/preparação_analise_exploratoria_dados/enron.csv\")"
   ]
  },
  {
   "cell_type": "markdown",
   "id": "df25f7bb",
   "metadata": {},
   "source": [
    "## 2. Analise Descritiva de Dados"
   ]
  },
  {
   "cell_type": "markdown",
   "id": "cd682841",
   "metadata": {},
   "source": [
    "mostra as 5 primeira linhas, \n",
    "o nome de todas as colunas\n",
    "e o número de linha e colunas, \n",
    "A tabela possui 146 instâncias e 22 atributos"
   ]
  },
  {
   "cell_type": "code",
   "execution_count": 3,
   "id": "458c1fdf",
   "metadata": {},
   "outputs": [
    {
     "data": {
      "text/html": [
       "<div>\n",
       "<style scoped>\n",
       "    .dataframe tbody tr th:only-of-type {\n",
       "        vertical-align: middle;\n",
       "    }\n",
       "\n",
       "    .dataframe tbody tr th {\n",
       "        vertical-align: top;\n",
       "    }\n",
       "\n",
       "    .dataframe thead th {\n",
       "        text-align: right;\n",
       "    }\n",
       "</style>\n",
       "<table border=\"1\" class=\"dataframe\">\n",
       "  <thead>\n",
       "    <tr style=\"text-align: right;\">\n",
       "      <th></th>\n",
       "      <th>bonus</th>\n",
       "      <th>deferral_payments</th>\n",
       "      <th>deferred_income</th>\n",
       "      <th>director_fees</th>\n",
       "      <th>email_address</th>\n",
       "      <th>exercised_stock_options</th>\n",
       "      <th>expenses</th>\n",
       "      <th>from_messages</th>\n",
       "      <th>from_poi_to_this_person</th>\n",
       "      <th>from_this_person_to_poi</th>\n",
       "      <th>...</th>\n",
       "      <th>other</th>\n",
       "      <th>poi</th>\n",
       "      <th>restricted_stock</th>\n",
       "      <th>restricted_stock_deferred</th>\n",
       "      <th>salary</th>\n",
       "      <th>shared_receipt_with_poi</th>\n",
       "      <th>to_messages</th>\n",
       "      <th>total_payments</th>\n",
       "      <th>total_stock_value</th>\n",
       "      <th>name</th>\n",
       "    </tr>\n",
       "  </thead>\n",
       "  <tbody>\n",
       "    <tr>\n",
       "      <th>0</th>\n",
       "      <td>4175000.0</td>\n",
       "      <td>2869717.0</td>\n",
       "      <td>-3081055.0</td>\n",
       "      <td>NaN</td>\n",
       "      <td>phillip.allen@enron.com</td>\n",
       "      <td>1729541.0</td>\n",
       "      <td>13868.0</td>\n",
       "      <td>2195.0</td>\n",
       "      <td>47.0</td>\n",
       "      <td>65.0</td>\n",
       "      <td>...</td>\n",
       "      <td>152.0</td>\n",
       "      <td>False</td>\n",
       "      <td>126027.0</td>\n",
       "      <td>-126027.0</td>\n",
       "      <td>201955.0</td>\n",
       "      <td>1407.0</td>\n",
       "      <td>2902.0</td>\n",
       "      <td>4484442.0</td>\n",
       "      <td>1729541.0</td>\n",
       "      <td>ALLEN PHILLIP K</td>\n",
       "    </tr>\n",
       "    <tr>\n",
       "      <th>1</th>\n",
       "      <td>NaN</td>\n",
       "      <td>178980.0</td>\n",
       "      <td>NaN</td>\n",
       "      <td>NaN</td>\n",
       "      <td>NaN</td>\n",
       "      <td>257817.0</td>\n",
       "      <td>3486.0</td>\n",
       "      <td>NaN</td>\n",
       "      <td>NaN</td>\n",
       "      <td>NaN</td>\n",
       "      <td>...</td>\n",
       "      <td>NaN</td>\n",
       "      <td>False</td>\n",
       "      <td>NaN</td>\n",
       "      <td>NaN</td>\n",
       "      <td>NaN</td>\n",
       "      <td>NaN</td>\n",
       "      <td>NaN</td>\n",
       "      <td>182466.0</td>\n",
       "      <td>257817.0</td>\n",
       "      <td>BADUM JAMES P</td>\n",
       "    </tr>\n",
       "    <tr>\n",
       "      <th>2</th>\n",
       "      <td>NaN</td>\n",
       "      <td>NaN</td>\n",
       "      <td>-5104.0</td>\n",
       "      <td>NaN</td>\n",
       "      <td>james.bannantine@enron.com</td>\n",
       "      <td>4046157.0</td>\n",
       "      <td>56301.0</td>\n",
       "      <td>29.0</td>\n",
       "      <td>39.0</td>\n",
       "      <td>0.0</td>\n",
       "      <td>...</td>\n",
       "      <td>864523.0</td>\n",
       "      <td>False</td>\n",
       "      <td>1757552.0</td>\n",
       "      <td>-560222.0</td>\n",
       "      <td>477.0</td>\n",
       "      <td>465.0</td>\n",
       "      <td>566.0</td>\n",
       "      <td>916197.0</td>\n",
       "      <td>5243487.0</td>\n",
       "      <td>BANNANTINE JAMES M</td>\n",
       "    </tr>\n",
       "    <tr>\n",
       "      <th>3</th>\n",
       "      <td>1200000.0</td>\n",
       "      <td>1295738.0</td>\n",
       "      <td>-1386055.0</td>\n",
       "      <td>NaN</td>\n",
       "      <td>NaN</td>\n",
       "      <td>6680544.0</td>\n",
       "      <td>11200.0</td>\n",
       "      <td>NaN</td>\n",
       "      <td>NaN</td>\n",
       "      <td>NaN</td>\n",
       "      <td>...</td>\n",
       "      <td>2660303.0</td>\n",
       "      <td>False</td>\n",
       "      <td>3942714.0</td>\n",
       "      <td>NaN</td>\n",
       "      <td>267102.0</td>\n",
       "      <td>NaN</td>\n",
       "      <td>NaN</td>\n",
       "      <td>5634343.0</td>\n",
       "      <td>10623258.0</td>\n",
       "      <td>BAXTER JOHN C</td>\n",
       "    </tr>\n",
       "    <tr>\n",
       "      <th>4</th>\n",
       "      <td>400000.0</td>\n",
       "      <td>260455.0</td>\n",
       "      <td>-201641.0</td>\n",
       "      <td>NaN</td>\n",
       "      <td>frank.bay@enron.com</td>\n",
       "      <td>NaN</td>\n",
       "      <td>129142.0</td>\n",
       "      <td>NaN</td>\n",
       "      <td>NaN</td>\n",
       "      <td>NaN</td>\n",
       "      <td>...</td>\n",
       "      <td>69.0</td>\n",
       "      <td>False</td>\n",
       "      <td>145796.0</td>\n",
       "      <td>-82782.0</td>\n",
       "      <td>239671.0</td>\n",
       "      <td>NaN</td>\n",
       "      <td>NaN</td>\n",
       "      <td>827696.0</td>\n",
       "      <td>63014.0</td>\n",
       "      <td>BAY FRANKLIN R</td>\n",
       "    </tr>\n",
       "  </tbody>\n",
       "</table>\n",
       "<p>5 rows × 22 columns</p>\n",
       "</div>"
      ],
      "text/plain": [
       "       bonus  deferral_payments  deferred_income  director_fees  \\\n",
       "0  4175000.0          2869717.0       -3081055.0            NaN   \n",
       "1        NaN           178980.0              NaN            NaN   \n",
       "2        NaN                NaN          -5104.0            NaN   \n",
       "3  1200000.0          1295738.0       -1386055.0            NaN   \n",
       "4   400000.0           260455.0        -201641.0            NaN   \n",
       "\n",
       "                email_address  exercised_stock_options  expenses  \\\n",
       "0     phillip.allen@enron.com                1729541.0   13868.0   \n",
       "1                         NaN                 257817.0    3486.0   \n",
       "2  james.bannantine@enron.com                4046157.0   56301.0   \n",
       "3                         NaN                6680544.0   11200.0   \n",
       "4         frank.bay@enron.com                      NaN  129142.0   \n",
       "\n",
       "   from_messages  from_poi_to_this_person  from_this_person_to_poi  ...  \\\n",
       "0         2195.0                     47.0                     65.0  ...   \n",
       "1            NaN                      NaN                      NaN  ...   \n",
       "2           29.0                     39.0                      0.0  ...   \n",
       "3            NaN                      NaN                      NaN  ...   \n",
       "4            NaN                      NaN                      NaN  ...   \n",
       "\n",
       "       other    poi  restricted_stock  restricted_stock_deferred    salary  \\\n",
       "0      152.0  False          126027.0                  -126027.0  201955.0   \n",
       "1        NaN  False               NaN                        NaN       NaN   \n",
       "2   864523.0  False         1757552.0                  -560222.0     477.0   \n",
       "3  2660303.0  False         3942714.0                        NaN  267102.0   \n",
       "4       69.0  False          145796.0                   -82782.0  239671.0   \n",
       "\n",
       "   shared_receipt_with_poi  to_messages  total_payments  total_stock_value  \\\n",
       "0                   1407.0       2902.0       4484442.0          1729541.0   \n",
       "1                      NaN          NaN        182466.0           257817.0   \n",
       "2                    465.0        566.0        916197.0          5243487.0   \n",
       "3                      NaN          NaN       5634343.0         10623258.0   \n",
       "4                      NaN          NaN        827696.0            63014.0   \n",
       "\n",
       "                 name  \n",
       "0     ALLEN PHILLIP K  \n",
       "1       BADUM JAMES P  \n",
       "2  BANNANTINE JAMES M  \n",
       "3       BAXTER JOHN C  \n",
       "4      BAY FRANKLIN R  \n",
       "\n",
       "[5 rows x 22 columns]"
      ]
     },
     "metadata": {},
     "output_type": "display_data"
    },
    {
     "data": {
      "text/plain": [
       "Index(['bonus', 'deferral_payments', 'deferred_income', 'director_fees',\n",
       "       'email_address', 'exercised_stock_options', 'expenses', 'from_messages',\n",
       "       'from_poi_to_this_person', 'from_this_person_to_poi', 'loan_advances',\n",
       "       'long_term_incentive', 'other', 'poi', 'restricted_stock',\n",
       "       'restricted_stock_deferred', 'salary', 'shared_receipt_with_poi',\n",
       "       'to_messages', 'total_payments', 'total_stock_value', 'name'],\n",
       "      dtype='object')"
      ]
     },
     "metadata": {},
     "output_type": "display_data"
    },
    {
     "data": {
      "text/plain": [
       "(146, 22)"
      ]
     },
     "metadata": {},
     "output_type": "display_data"
    }
   ],
   "source": [
    "display(df.head());display(df.columns); display(df.shape)"
   ]
  },
  {
   "cell_type": "markdown",
   "id": "d415d498",
   "metadata": {},
   "source": [
    "São contados o número de funcionários que participaram da fraude, 18, e os que não participaram, 128. Podemos observar que a maior parte dos funcionários não participou da fraude."
   ]
  },
  {
   "cell_type": "code",
   "execution_count": 4,
   "id": "3a19c3c3",
   "metadata": {
    "scrolled": true
   },
   "outputs": [
    {
     "data": {
      "text/plain": [
       "False    128\n",
       "True      18\n",
       "Name: poi, dtype: int64"
      ]
     },
     "execution_count": 4,
     "metadata": {},
     "output_type": "execute_result"
    }
   ],
   "source": [
    "df[\"poi\"].value_counts()"
   ]
  },
  {
   "cell_type": "markdown",
   "id": "1f22af0f",
   "metadata": {},
   "source": [
    "Mostra o tipo de variável por coluna"
   ]
  },
  {
   "cell_type": "code",
   "execution_count": 5,
   "id": "68d10679",
   "metadata": {},
   "outputs": [
    {
     "data": {
      "text/plain": [
       "bonus                        float64\n",
       "deferral_payments            float64\n",
       "deferred_income              float64\n",
       "director_fees                float64\n",
       "email_address                 object\n",
       "exercised_stock_options      float64\n",
       "expenses                     float64\n",
       "from_messages                float64\n",
       "from_poi_to_this_person      float64\n",
       "from_this_person_to_poi      float64\n",
       "loan_advances                float64\n",
       "long_term_incentive          float64\n",
       "other                        float64\n",
       "poi                             bool\n",
       "restricted_stock             float64\n",
       "restricted_stock_deferred    float64\n",
       "salary                       float64\n",
       "shared_receipt_with_poi      float64\n",
       "to_messages                  float64\n",
       "total_payments               float64\n",
       "total_stock_value            float64\n",
       "name                          object\n",
       "dtype: object"
      ]
     },
     "execution_count": 5,
     "metadata": {},
     "output_type": "execute_result"
    }
   ],
   "source": [
    "df.dtypes"
   ]
  },
  {
   "cell_type": "markdown",
   "id": "b2602e53",
   "metadata": {},
   "source": [
    "Seleciona as colunas que apresentam tipos numéricos"
   ]
  },
  {
   "cell_type": "code",
   "execution_count": 6,
   "id": "03d58ca4",
   "metadata": {},
   "outputs": [],
   "source": [
    "df_numero = df.select_dtypes(include=\"number\")"
   ]
  },
  {
   "cell_type": "markdown",
   "id": "2816fac9",
   "metadata": {},
   "source": [
    "Aplica os métodos no para obter média, mediana, variância, desvio padrão e valores dos quartis em todos os atributos numéricos"
   ]
  },
  {
   "cell_type": "code",
   "execution_count": 7,
   "id": "7a4426df",
   "metadata": {
    "scrolled": true
   },
   "outputs": [
    {
     "data": {
      "text/html": [
       "<div>\n",
       "<style scoped>\n",
       "    .dataframe tbody tr th:only-of-type {\n",
       "        vertical-align: middle;\n",
       "    }\n",
       "\n",
       "    .dataframe tbody tr th {\n",
       "        vertical-align: top;\n",
       "    }\n",
       "\n",
       "    .dataframe thead th {\n",
       "        text-align: right;\n",
       "    }\n",
       "</style>\n",
       "<table border=\"1\" class=\"dataframe\">\n",
       "  <thead>\n",
       "    <tr style=\"text-align: right;\">\n",
       "      <th></th>\n",
       "      <th>bonus</th>\n",
       "      <th>deferral_payments</th>\n",
       "      <th>deferred_income</th>\n",
       "      <th>director_fees</th>\n",
       "      <th>exercised_stock_options</th>\n",
       "      <th>expenses</th>\n",
       "      <th>from_messages</th>\n",
       "      <th>from_poi_to_this_person</th>\n",
       "      <th>from_this_person_to_poi</th>\n",
       "      <th>loan_advances</th>\n",
       "      <th>long_term_incentive</th>\n",
       "      <th>other</th>\n",
       "      <th>restricted_stock</th>\n",
       "      <th>restricted_stock_deferred</th>\n",
       "      <th>salary</th>\n",
       "      <th>shared_receipt_with_poi</th>\n",
       "      <th>to_messages</th>\n",
       "      <th>total_payments</th>\n",
       "      <th>total_stock_value</th>\n",
       "    </tr>\n",
       "  </thead>\n",
       "  <tbody>\n",
       "    <tr>\n",
       "      <th>mean</th>\n",
       "      <td>2.374235e+06</td>\n",
       "      <td>1.642674e+06</td>\n",
       "      <td>-1.140475e+06</td>\n",
       "      <td>1.668049e+05</td>\n",
       "      <td>5.987054e+06</td>\n",
       "      <td>1.087289e+05</td>\n",
       "      <td>6.087907e+02</td>\n",
       "      <td>64.895349</td>\n",
       "      <td>41.232558</td>\n",
       "      <td>4.196250e+07</td>\n",
       "      <td>1.470361e+06</td>\n",
       "      <td>9.190650e+05</td>\n",
       "      <td>2.321741e+06</td>\n",
       "      <td>1.664106e+05</td>\n",
       "      <td>5.621943e+05</td>\n",
       "      <td>1.176465e+03</td>\n",
       "      <td>2.073860e+03</td>\n",
       "      <td>5.081526e+06</td>\n",
       "      <td>6.773957e+06</td>\n",
       "    </tr>\n",
       "    <tr>\n",
       "      <th>median</th>\n",
       "      <td>7.693750e+05</td>\n",
       "      <td>2.274490e+05</td>\n",
       "      <td>-1.597920e+05</td>\n",
       "      <td>1.085790e+05</td>\n",
       "      <td>1.310814e+06</td>\n",
       "      <td>4.695000e+04</td>\n",
       "      <td>4.100000e+01</td>\n",
       "      <td>35.000000</td>\n",
       "      <td>8.000000</td>\n",
       "      <td>4.176250e+07</td>\n",
       "      <td>4.420350e+05</td>\n",
       "      <td>5.238200e+04</td>\n",
       "      <td>4.517400e+05</td>\n",
       "      <td>-1.469750e+05</td>\n",
       "      <td>2.599960e+05</td>\n",
       "      <td>7.405000e+02</td>\n",
       "      <td>1.211000e+03</td>\n",
       "      <td>1.101393e+06</td>\n",
       "      <td>1.102872e+06</td>\n",
       "    </tr>\n",
       "    <tr>\n",
       "      <th>var</th>\n",
       "      <td>1.147754e+14</td>\n",
       "      <td>2.664552e+13</td>\n",
       "      <td>1.620390e+13</td>\n",
       "      <td>1.023305e+11</td>\n",
       "      <td>9.648483e+14</td>\n",
       "      <td>2.846594e+11</td>\n",
       "      <td>3.389406e+06</td>\n",
       "      <td>7565.388919</td>\n",
       "      <td>10014.627633</td>\n",
       "      <td>2.216829e+15</td>\n",
       "      <td>3.531639e+13</td>\n",
       "      <td>2.106124e+13</td>\n",
       "      <td>1.567073e+14</td>\n",
       "      <td>1.765255e+13</td>\n",
       "      <td>7.378661e+12</td>\n",
       "      <td>1.388432e+06</td>\n",
       "      <td>6.670344e+06</td>\n",
       "      <td>8.445834e+14</td>\n",
       "      <td>1.517708e+15</td>\n",
       "    </tr>\n",
       "    <tr>\n",
       "      <th>std</th>\n",
       "      <td>1.071333e+07</td>\n",
       "      <td>5.161930e+06</td>\n",
       "      <td>4.025406e+06</td>\n",
       "      <td>3.198914e+05</td>\n",
       "      <td>3.106201e+07</td>\n",
       "      <td>5.335348e+05</td>\n",
       "      <td>1.841034e+03</td>\n",
       "      <td>86.979244</td>\n",
       "      <td>100.073111</td>\n",
       "      <td>4.708321e+07</td>\n",
       "      <td>5.942759e+06</td>\n",
       "      <td>4.589253e+06</td>\n",
       "      <td>1.251828e+07</td>\n",
       "      <td>4.201494e+06</td>\n",
       "      <td>2.716369e+06</td>\n",
       "      <td>1.178318e+03</td>\n",
       "      <td>2.582701e+03</td>\n",
       "      <td>2.906172e+07</td>\n",
       "      <td>3.895777e+07</td>\n",
       "    </tr>\n",
       "  </tbody>\n",
       "</table>\n",
       "</div>"
      ],
      "text/plain": [
       "               bonus  deferral_payments  deferred_income  director_fees  \\\n",
       "mean    2.374235e+06       1.642674e+06    -1.140475e+06   1.668049e+05   \n",
       "median  7.693750e+05       2.274490e+05    -1.597920e+05   1.085790e+05   \n",
       "var     1.147754e+14       2.664552e+13     1.620390e+13   1.023305e+11   \n",
       "std     1.071333e+07       5.161930e+06     4.025406e+06   3.198914e+05   \n",
       "\n",
       "        exercised_stock_options      expenses  from_messages  \\\n",
       "mean               5.987054e+06  1.087289e+05   6.087907e+02   \n",
       "median             1.310814e+06  4.695000e+04   4.100000e+01   \n",
       "var                9.648483e+14  2.846594e+11   3.389406e+06   \n",
       "std                3.106201e+07  5.335348e+05   1.841034e+03   \n",
       "\n",
       "        from_poi_to_this_person  from_this_person_to_poi  loan_advances  \\\n",
       "mean                  64.895349                41.232558   4.196250e+07   \n",
       "median                35.000000                 8.000000   4.176250e+07   \n",
       "var                 7565.388919             10014.627633   2.216829e+15   \n",
       "std                   86.979244               100.073111   4.708321e+07   \n",
       "\n",
       "        long_term_incentive         other  restricted_stock  \\\n",
       "mean           1.470361e+06  9.190650e+05      2.321741e+06   \n",
       "median         4.420350e+05  5.238200e+04      4.517400e+05   \n",
       "var            3.531639e+13  2.106124e+13      1.567073e+14   \n",
       "std            5.942759e+06  4.589253e+06      1.251828e+07   \n",
       "\n",
       "        restricted_stock_deferred        salary  shared_receipt_with_poi  \\\n",
       "mean                 1.664106e+05  5.621943e+05             1.176465e+03   \n",
       "median              -1.469750e+05  2.599960e+05             7.405000e+02   \n",
       "var                  1.765255e+13  7.378661e+12             1.388432e+06   \n",
       "std                  4.201494e+06  2.716369e+06             1.178318e+03   \n",
       "\n",
       "         to_messages  total_payments  total_stock_value  \n",
       "mean    2.073860e+03    5.081526e+06       6.773957e+06  \n",
       "median  1.211000e+03    1.101393e+06       1.102872e+06  \n",
       "var     6.670344e+06    8.445834e+14       1.517708e+15  \n",
       "std     2.582701e+03    2.906172e+07       3.895777e+07  "
      ]
     },
     "execution_count": 7,
     "metadata": {},
     "output_type": "execute_result"
    }
   ],
   "source": [
    "df_numero.agg([np.mean, np.median, np.var, np.std])"
   ]
  },
  {
   "cell_type": "markdown",
   "id": "cf73c084",
   "metadata": {},
   "source": [
    "Apresenta uma série de informações estatíticas sobre os dados estudados.\n",
    "Podemos observar que pagamentos de bonus, incentivos de longo prazo e adiantamento de pagamentos eram praticas relativamento comuns entre os funcionários. 82 dos 146 funcionários estudados recebiam bonus, 66 incentivos de longo prazo e 49 adiantamentos. Entretando, os valores no ultimo quartil são muito superiores, revelando que poucos funcionários recebiam valores mais altos, algo bastante comum em empresa hierarquizadas."
   ]
  },
  {
   "cell_type": "code",
   "execution_count": 8,
   "id": "b1e60fee",
   "metadata": {},
   "outputs": [
    {
     "data": {
      "text/html": [
       "<div>\n",
       "<style scoped>\n",
       "    .dataframe tbody tr th:only-of-type {\n",
       "        vertical-align: middle;\n",
       "    }\n",
       "\n",
       "    .dataframe tbody tr th {\n",
       "        vertical-align: top;\n",
       "    }\n",
       "\n",
       "    .dataframe thead th {\n",
       "        text-align: right;\n",
       "    }\n",
       "</style>\n",
       "<table border=\"1\" class=\"dataframe\">\n",
       "  <thead>\n",
       "    <tr style=\"text-align: right;\">\n",
       "      <th></th>\n",
       "      <th>bonus</th>\n",
       "      <th>deferral_payments</th>\n",
       "      <th>deferred_income</th>\n",
       "      <th>director_fees</th>\n",
       "      <th>exercised_stock_options</th>\n",
       "      <th>expenses</th>\n",
       "      <th>from_messages</th>\n",
       "      <th>from_poi_to_this_person</th>\n",
       "      <th>from_this_person_to_poi</th>\n",
       "      <th>loan_advances</th>\n",
       "      <th>long_term_incentive</th>\n",
       "      <th>other</th>\n",
       "      <th>restricted_stock</th>\n",
       "      <th>restricted_stock_deferred</th>\n",
       "      <th>salary</th>\n",
       "      <th>shared_receipt_with_poi</th>\n",
       "      <th>to_messages</th>\n",
       "      <th>total_payments</th>\n",
       "      <th>total_stock_value</th>\n",
       "    </tr>\n",
       "  </thead>\n",
       "  <tbody>\n",
       "    <tr>\n",
       "      <th>count</th>\n",
       "      <td>8.200000e+01</td>\n",
       "      <td>3.900000e+01</td>\n",
       "      <td>4.900000e+01</td>\n",
       "      <td>1.700000e+01</td>\n",
       "      <td>1.020000e+02</td>\n",
       "      <td>9.500000e+01</td>\n",
       "      <td>86.000000</td>\n",
       "      <td>86.000000</td>\n",
       "      <td>86.000000</td>\n",
       "      <td>4.000000e+00</td>\n",
       "      <td>6.600000e+01</td>\n",
       "      <td>9.300000e+01</td>\n",
       "      <td>1.100000e+02</td>\n",
       "      <td>1.800000e+01</td>\n",
       "      <td>9.500000e+01</td>\n",
       "      <td>86.000000</td>\n",
       "      <td>86.000000</td>\n",
       "      <td>1.250000e+02</td>\n",
       "      <td>1.260000e+02</td>\n",
       "    </tr>\n",
       "    <tr>\n",
       "      <th>mean</th>\n",
       "      <td>2.374235e+06</td>\n",
       "      <td>1.642674e+06</td>\n",
       "      <td>-1.140475e+06</td>\n",
       "      <td>1.668049e+05</td>\n",
       "      <td>5.987054e+06</td>\n",
       "      <td>1.087289e+05</td>\n",
       "      <td>608.790698</td>\n",
       "      <td>64.895349</td>\n",
       "      <td>41.232558</td>\n",
       "      <td>4.196250e+07</td>\n",
       "      <td>1.470361e+06</td>\n",
       "      <td>9.190650e+05</td>\n",
       "      <td>2.321741e+06</td>\n",
       "      <td>1.664106e+05</td>\n",
       "      <td>5.621943e+05</td>\n",
       "      <td>1176.465116</td>\n",
       "      <td>2073.860465</td>\n",
       "      <td>5.081526e+06</td>\n",
       "      <td>6.773957e+06</td>\n",
       "    </tr>\n",
       "    <tr>\n",
       "      <th>std</th>\n",
       "      <td>1.071333e+07</td>\n",
       "      <td>5.161930e+06</td>\n",
       "      <td>4.025406e+06</td>\n",
       "      <td>3.198914e+05</td>\n",
       "      <td>3.106201e+07</td>\n",
       "      <td>5.335348e+05</td>\n",
       "      <td>1841.033949</td>\n",
       "      <td>86.979244</td>\n",
       "      <td>100.073111</td>\n",
       "      <td>4.708321e+07</td>\n",
       "      <td>5.942759e+06</td>\n",
       "      <td>4.589253e+06</td>\n",
       "      <td>1.251828e+07</td>\n",
       "      <td>4.201494e+06</td>\n",
       "      <td>2.716369e+06</td>\n",
       "      <td>1178.317641</td>\n",
       "      <td>2582.700981</td>\n",
       "      <td>2.906172e+07</td>\n",
       "      <td>3.895777e+07</td>\n",
       "    </tr>\n",
       "    <tr>\n",
       "      <th>min</th>\n",
       "      <td>7.000000e+04</td>\n",
       "      <td>-1.025000e+05</td>\n",
       "      <td>-2.799289e+07</td>\n",
       "      <td>3.285000e+03</td>\n",
       "      <td>3.285000e+03</td>\n",
       "      <td>1.480000e+02</td>\n",
       "      <td>12.000000</td>\n",
       "      <td>0.000000</td>\n",
       "      <td>0.000000</td>\n",
       "      <td>4.000000e+05</td>\n",
       "      <td>6.922300e+04</td>\n",
       "      <td>2.000000e+00</td>\n",
       "      <td>-2.604490e+06</td>\n",
       "      <td>-7.576788e+06</td>\n",
       "      <td>4.770000e+02</td>\n",
       "      <td>2.000000</td>\n",
       "      <td>57.000000</td>\n",
       "      <td>1.480000e+02</td>\n",
       "      <td>-4.409300e+04</td>\n",
       "    </tr>\n",
       "    <tr>\n",
       "      <th>25%</th>\n",
       "      <td>4.312500e+05</td>\n",
       "      <td>8.157300e+04</td>\n",
       "      <td>-6.948620e+05</td>\n",
       "      <td>9.878400e+04</td>\n",
       "      <td>5.278862e+05</td>\n",
       "      <td>2.261400e+04</td>\n",
       "      <td>22.750000</td>\n",
       "      <td>10.000000</td>\n",
       "      <td>1.000000</td>\n",
       "      <td>1.600000e+06</td>\n",
       "      <td>2.812500e+05</td>\n",
       "      <td>1.215000e+03</td>\n",
       "      <td>2.540180e+05</td>\n",
       "      <td>-3.896218e+05</td>\n",
       "      <td>2.118160e+05</td>\n",
       "      <td>249.750000</td>\n",
       "      <td>541.250000</td>\n",
       "      <td>3.944750e+05</td>\n",
       "      <td>4.945102e+05</td>\n",
       "    </tr>\n",
       "    <tr>\n",
       "      <th>50%</th>\n",
       "      <td>7.693750e+05</td>\n",
       "      <td>2.274490e+05</td>\n",
       "      <td>-1.597920e+05</td>\n",
       "      <td>1.085790e+05</td>\n",
       "      <td>1.310814e+06</td>\n",
       "      <td>4.695000e+04</td>\n",
       "      <td>41.000000</td>\n",
       "      <td>35.000000</td>\n",
       "      <td>8.000000</td>\n",
       "      <td>4.176250e+07</td>\n",
       "      <td>4.420350e+05</td>\n",
       "      <td>5.238200e+04</td>\n",
       "      <td>4.517400e+05</td>\n",
       "      <td>-1.469750e+05</td>\n",
       "      <td>2.599960e+05</td>\n",
       "      <td>740.500000</td>\n",
       "      <td>1211.000000</td>\n",
       "      <td>1.101393e+06</td>\n",
       "      <td>1.102872e+06</td>\n",
       "    </tr>\n",
       "    <tr>\n",
       "      <th>75%</th>\n",
       "      <td>1.200000e+06</td>\n",
       "      <td>1.002672e+06</td>\n",
       "      <td>-3.834600e+04</td>\n",
       "      <td>1.137840e+05</td>\n",
       "      <td>2.547724e+06</td>\n",
       "      <td>7.995250e+04</td>\n",
       "      <td>145.500000</td>\n",
       "      <td>72.250000</td>\n",
       "      <td>24.750000</td>\n",
       "      <td>8.212500e+07</td>\n",
       "      <td>9.386720e+05</td>\n",
       "      <td>3.620960e+05</td>\n",
       "      <td>1.002370e+06</td>\n",
       "      <td>-7.500975e+04</td>\n",
       "      <td>3.121170e+05</td>\n",
       "      <td>1888.250000</td>\n",
       "      <td>2634.750000</td>\n",
       "      <td>2.093263e+06</td>\n",
       "      <td>2.949847e+06</td>\n",
       "    </tr>\n",
       "    <tr>\n",
       "      <th>max</th>\n",
       "      <td>9.734362e+07</td>\n",
       "      <td>3.208340e+07</td>\n",
       "      <td>-8.330000e+02</td>\n",
       "      <td>1.398517e+06</td>\n",
       "      <td>3.117640e+08</td>\n",
       "      <td>5.235198e+06</td>\n",
       "      <td>14368.000000</td>\n",
       "      <td>528.000000</td>\n",
       "      <td>609.000000</td>\n",
       "      <td>8.392500e+07</td>\n",
       "      <td>4.852193e+07</td>\n",
       "      <td>4.266759e+07</td>\n",
       "      <td>1.303223e+08</td>\n",
       "      <td>1.545629e+07</td>\n",
       "      <td>2.670423e+07</td>\n",
       "      <td>5521.000000</td>\n",
       "      <td>15149.000000</td>\n",
       "      <td>3.098866e+08</td>\n",
       "      <td>4.345095e+08</td>\n",
       "    </tr>\n",
       "  </tbody>\n",
       "</table>\n",
       "</div>"
      ],
      "text/plain": [
       "              bonus  deferral_payments  deferred_income  director_fees  \\\n",
       "count  8.200000e+01       3.900000e+01     4.900000e+01   1.700000e+01   \n",
       "mean   2.374235e+06       1.642674e+06    -1.140475e+06   1.668049e+05   \n",
       "std    1.071333e+07       5.161930e+06     4.025406e+06   3.198914e+05   \n",
       "min    7.000000e+04      -1.025000e+05    -2.799289e+07   3.285000e+03   \n",
       "25%    4.312500e+05       8.157300e+04    -6.948620e+05   9.878400e+04   \n",
       "50%    7.693750e+05       2.274490e+05    -1.597920e+05   1.085790e+05   \n",
       "75%    1.200000e+06       1.002672e+06    -3.834600e+04   1.137840e+05   \n",
       "max    9.734362e+07       3.208340e+07    -8.330000e+02   1.398517e+06   \n",
       "\n",
       "       exercised_stock_options      expenses  from_messages  \\\n",
       "count             1.020000e+02  9.500000e+01      86.000000   \n",
       "mean              5.987054e+06  1.087289e+05     608.790698   \n",
       "std               3.106201e+07  5.335348e+05    1841.033949   \n",
       "min               3.285000e+03  1.480000e+02      12.000000   \n",
       "25%               5.278862e+05  2.261400e+04      22.750000   \n",
       "50%               1.310814e+06  4.695000e+04      41.000000   \n",
       "75%               2.547724e+06  7.995250e+04     145.500000   \n",
       "max               3.117640e+08  5.235198e+06   14368.000000   \n",
       "\n",
       "       from_poi_to_this_person  from_this_person_to_poi  loan_advances  \\\n",
       "count                86.000000                86.000000   4.000000e+00   \n",
       "mean                 64.895349                41.232558   4.196250e+07   \n",
       "std                  86.979244               100.073111   4.708321e+07   \n",
       "min                   0.000000                 0.000000   4.000000e+05   \n",
       "25%                  10.000000                 1.000000   1.600000e+06   \n",
       "50%                  35.000000                 8.000000   4.176250e+07   \n",
       "75%                  72.250000                24.750000   8.212500e+07   \n",
       "max                 528.000000               609.000000   8.392500e+07   \n",
       "\n",
       "       long_term_incentive         other  restricted_stock  \\\n",
       "count         6.600000e+01  9.300000e+01      1.100000e+02   \n",
       "mean          1.470361e+06  9.190650e+05      2.321741e+06   \n",
       "std           5.942759e+06  4.589253e+06      1.251828e+07   \n",
       "min           6.922300e+04  2.000000e+00     -2.604490e+06   \n",
       "25%           2.812500e+05  1.215000e+03      2.540180e+05   \n",
       "50%           4.420350e+05  5.238200e+04      4.517400e+05   \n",
       "75%           9.386720e+05  3.620960e+05      1.002370e+06   \n",
       "max           4.852193e+07  4.266759e+07      1.303223e+08   \n",
       "\n",
       "       restricted_stock_deferred        salary  shared_receipt_with_poi  \\\n",
       "count               1.800000e+01  9.500000e+01                86.000000   \n",
       "mean                1.664106e+05  5.621943e+05              1176.465116   \n",
       "std                 4.201494e+06  2.716369e+06              1178.317641   \n",
       "min                -7.576788e+06  4.770000e+02                 2.000000   \n",
       "25%                -3.896218e+05  2.118160e+05               249.750000   \n",
       "50%                -1.469750e+05  2.599960e+05               740.500000   \n",
       "75%                -7.500975e+04  3.121170e+05              1888.250000   \n",
       "max                 1.545629e+07  2.670423e+07              5521.000000   \n",
       "\n",
       "        to_messages  total_payments  total_stock_value  \n",
       "count     86.000000    1.250000e+02       1.260000e+02  \n",
       "mean    2073.860465    5.081526e+06       6.773957e+06  \n",
       "std     2582.700981    2.906172e+07       3.895777e+07  \n",
       "min       57.000000    1.480000e+02      -4.409300e+04  \n",
       "25%      541.250000    3.944750e+05       4.945102e+05  \n",
       "50%     1211.000000    1.101393e+06       1.102872e+06  \n",
       "75%     2634.750000    2.093263e+06       2.949847e+06  \n",
       "max    15149.000000    3.098866e+08       4.345095e+08  "
      ]
     },
     "execution_count": 8,
     "metadata": {},
     "output_type": "execute_result"
    }
   ],
   "source": [
    "df_numero.describe()"
   ]
  },
  {
   "cell_type": "code",
   "execution_count": 9,
   "id": "5e21a0fb",
   "metadata": {},
   "outputs": [],
   "source": [
    "df_nao_numero = df.select_dtypes(include=\"object\")"
   ]
  },
  {
   "cell_type": "code",
   "execution_count": 10,
   "id": "e1aa7ec3",
   "metadata": {},
   "outputs": [
    {
     "data": {
      "text/plain": [
       "<bound method NDFrame.head of                   email_address                   name\n",
       "0       phillip.allen@enron.com        ALLEN PHILLIP K\n",
       "1                           NaN          BADUM JAMES P\n",
       "2    james.bannantine@enron.com     BANNANTINE JAMES M\n",
       "3                           NaN          BAXTER JOHN C\n",
       "4           frank.bay@enron.com         BAY FRANKLIN R\n",
       "..                          ...                    ...\n",
       "141                         NaN  WINOKUR JR. HERBERT S\n",
       "142     john.wodraska@enron.com          WODRASKA JOHN\n",
       "143                         NaN           WROBEL BRUCE\n",
       "144      scott.yeager@enron.com         YEAGER F SCOTT\n",
       "145                         NaN              YEAP SOON\n",
       "\n",
       "[146 rows x 2 columns]>"
      ]
     },
     "execution_count": 10,
     "metadata": {},
     "output_type": "execute_result"
    }
   ],
   "source": [
    "df_nao_numero.head"
   ]
  },
  {
   "cell_type": "markdown",
   "id": "523166be",
   "metadata": {},
   "source": [
    "elimina os duplicados e apresenta os valores únicos de cada variável"
   ]
  },
  {
   "cell_type": "code",
   "execution_count": 11,
   "id": "d03baac3",
   "metadata": {},
   "outputs": [
    {
     "data": {
      "text/html": [
       "<div>\n",
       "<style scoped>\n",
       "    .dataframe tbody tr th:only-of-type {\n",
       "        vertical-align: middle;\n",
       "    }\n",
       "\n",
       "    .dataframe tbody tr th {\n",
       "        vertical-align: top;\n",
       "    }\n",
       "\n",
       "    .dataframe thead th {\n",
       "        text-align: right;\n",
       "    }\n",
       "</style>\n",
       "<table border=\"1\" class=\"dataframe\">\n",
       "  <thead>\n",
       "    <tr style=\"text-align: right;\">\n",
       "      <th></th>\n",
       "      <th>email_address</th>\n",
       "      <th>name</th>\n",
       "    </tr>\n",
       "  </thead>\n",
       "  <tbody>\n",
       "    <tr>\n",
       "      <th>0</th>\n",
       "      <td>phillip.allen@enron.com</td>\n",
       "      <td>ALLEN PHILLIP K</td>\n",
       "    </tr>\n",
       "    <tr>\n",
       "      <th>1</th>\n",
       "      <td>NaN</td>\n",
       "      <td>BADUM JAMES P</td>\n",
       "    </tr>\n",
       "    <tr>\n",
       "      <th>2</th>\n",
       "      <td>james.bannantine@enron.com</td>\n",
       "      <td>BANNANTINE JAMES M</td>\n",
       "    </tr>\n",
       "    <tr>\n",
       "      <th>3</th>\n",
       "      <td>NaN</td>\n",
       "      <td>BAXTER JOHN C</td>\n",
       "    </tr>\n",
       "    <tr>\n",
       "      <th>4</th>\n",
       "      <td>frank.bay@enron.com</td>\n",
       "      <td>BAY FRANKLIN R</td>\n",
       "    </tr>\n",
       "    <tr>\n",
       "      <th>...</th>\n",
       "      <td>...</td>\n",
       "      <td>...</td>\n",
       "    </tr>\n",
       "    <tr>\n",
       "      <th>141</th>\n",
       "      <td>NaN</td>\n",
       "      <td>WINOKUR JR. HERBERT S</td>\n",
       "    </tr>\n",
       "    <tr>\n",
       "      <th>142</th>\n",
       "      <td>john.wodraska@enron.com</td>\n",
       "      <td>WODRASKA JOHN</td>\n",
       "    </tr>\n",
       "    <tr>\n",
       "      <th>143</th>\n",
       "      <td>NaN</td>\n",
       "      <td>WROBEL BRUCE</td>\n",
       "    </tr>\n",
       "    <tr>\n",
       "      <th>144</th>\n",
       "      <td>scott.yeager@enron.com</td>\n",
       "      <td>YEAGER F SCOTT</td>\n",
       "    </tr>\n",
       "    <tr>\n",
       "      <th>145</th>\n",
       "      <td>NaN</td>\n",
       "      <td>YEAP SOON</td>\n",
       "    </tr>\n",
       "  </tbody>\n",
       "</table>\n",
       "<p>146 rows × 2 columns</p>\n",
       "</div>"
      ],
      "text/plain": [
       "                  email_address                   name\n",
       "0       phillip.allen@enron.com        ALLEN PHILLIP K\n",
       "1                           NaN          BADUM JAMES P\n",
       "2    james.bannantine@enron.com     BANNANTINE JAMES M\n",
       "3                           NaN          BAXTER JOHN C\n",
       "4           frank.bay@enron.com         BAY FRANKLIN R\n",
       "..                          ...                    ...\n",
       "141                         NaN  WINOKUR JR. HERBERT S\n",
       "142     john.wodraska@enron.com          WODRASKA JOHN\n",
       "143                         NaN           WROBEL BRUCE\n",
       "144      scott.yeager@enron.com         YEAGER F SCOTT\n",
       "145                         NaN              YEAP SOON\n",
       "\n",
       "[146 rows x 2 columns]"
      ]
     },
     "execution_count": 11,
     "metadata": {},
     "output_type": "execute_result"
    }
   ],
   "source": [
    "df_nao_numero.drop_duplicates(subset=[\"name\"])"
   ]
  },
  {
   "cell_type": "markdown",
   "id": "404a1374",
   "metadata": {},
   "source": [
    "## 3. Análise Univariada dos Dados"
   ]
  },
  {
   "cell_type": "markdown",
   "id": "7f40e1fa",
   "metadata": {},
   "source": [
    "Mostra os bonus recebidos. Tiramos os outliers. Observa-se que há uma concentração de bonus recebidos nos valores mais baixos. Distribuição possui uma assimetria positiva."
   ]
  },
  {
   "cell_type": "code",
   "execution_count": 12,
   "id": "51669580",
   "metadata": {},
   "outputs": [
    {
     "data": {
      "text/plain": [
       "<seaborn.axisgrid.FacetGrid at 0x7fdc28a7a610>"
      ]
     },
     "execution_count": 12,
     "metadata": {},
     "output_type": "execute_result"
    },
    {
     "data": {
      "image/png": "[encoded data removed]",
      "text/plain": [
       "<Figure size 360x360 with 1 Axes>"
      ]
     },
     "metadata": {
      "needs_background": "light"
     },
     "output_type": "display_data"
    }
   ],
   "source": [
    "sns.displot(df[df[\"bonus\"]<=0.8*1e8][\"bonus\"])\n"
   ]
  },
  {
   "cell_type": "markdown",
   "id": "ecd0674f",
   "metadata": {},
   "source": [
    "Trata-se de uma espécie de adiantamento. Tiramos os outliers. Observa-se que há uma concentração nos valores mais baixos. Distribuição possui uma assimetria positiva."
   ]
  },
  {
   "cell_type": "code",
   "execution_count": 13,
   "id": "6821c208",
   "metadata": {},
   "outputs": [
    {
     "data": {
      "text/plain": [
       "<seaborn.axisgrid.FacetGrid at 0x7fdc240cf310>"
      ]
     },
     "execution_count": 13,
     "metadata": {},
     "output_type": "execute_result"
    },
    {
     "data": {
      "image/png": "[encoded data removed]",
      "text/plain": [
       "<Figure size 360x360 with 1 Axes>"
      ]
     },
     "metadata": {
      "needs_background": "light"
     },
     "output_type": "display_data"
    }
   ],
   "source": [
    "sns.displot(df[df[\"deferral_payments\"]<=1*1e7][\"deferral_payments\"])"
   ]
  },
  {
   "cell_type": "markdown",
   "id": "eb9fdb91",
   "metadata": {},
   "source": []
  },
  {
   "cell_type": "markdown",
   "id": "c777cd51",
   "metadata": {},
   "source": [
    "Trata-se de uma espécie de adiantamento. Tiramos os outliers. Observa-se que há uma concentração nos valores próximos de 0. Distribuição possui uma assimetria negativa."
   ]
  },
  {
   "cell_type": "code",
   "execution_count": 14,
   "id": "f215d0f0",
   "metadata": {},
   "outputs": [
    {
     "data": {
      "text/plain": [
       "<seaborn.axisgrid.FacetGrid at 0x7fdc2417e280>"
      ]
     },
     "execution_count": 14,
     "metadata": {},
     "output_type": "execute_result"
    },
    {
     "data": {
      "image/png": "[encoded data removed]",
      "text/plain": [
       "<Figure size 360x360 with 1 Axes>"
      ]
     },
     "metadata": {
      "needs_background": "light"
     },
     "output_type": "display_data"
    }
   ],
   "source": [
    "sns.displot(df[df[\"deferred_income\"]>=-0.5*1e7][\"deferred_income\"])"
   ]
  },
  {
   "cell_type": "markdown",
   "id": "eed5cbe0",
   "metadata": {},
   "source": [
    "Trata-se de um pagamento para diretores. Tiramos os outliers. Observa-se que há dois clusters, um entre 0 e 50.000, aproximadamente, e outro entre 90.000 e 135.00, aproximadamente. O maior número encontra-se entre 90.000 e 110.000"
   ]
  },
  {
   "cell_type": "code",
   "execution_count": 15,
   "id": "b0067a7f",
   "metadata": {},
   "outputs": [
    {
     "data": {
      "text/plain": [
       "<seaborn.axisgrid.FacetGrid at 0x7fdc23fde4f0>"
      ]
     },
     "execution_count": 15,
     "metadata": {},
     "output_type": "execute_result"
    },
    {
     "data": {
      "image/png": "[encoded data removed]",
      "text/plain": [
       "<Figure size 360x360 with 1 Axes>"
      ]
     },
     "metadata": {
      "needs_background": "light"
     },
     "output_type": "display_data"
    }
   ],
   "source": [
    "sns.displot(df[df[\"director_fees\"]<= 1.0*1e6][\"director_fees\"])"
   ]
  },
  {
   "cell_type": "markdown",
   "id": "abfec2d7",
   "metadata": {},
   "source": [
    "Compra de ações em um preço pré-definido. Observa-se a concentração em valores mais baixos. Foram tirados os outliers. Distribuição possui uma assimetria positiva."
   ]
  },
  {
   "cell_type": "code",
   "execution_count": 16,
   "id": "7ae2ad1d",
   "metadata": {},
   "outputs": [
    {
     "data": {
      "text/plain": [
       "<seaborn.axisgrid.FacetGrid at 0x7fdc23f8bd30>"
      ]
     },
     "execution_count": 16,
     "metadata": {},
     "output_type": "execute_result"
    },
    {
     "data": {
      "image/png": "[encoded data removed]",
      "text/plain": [
       "<Figure size 360x360 with 1 Axes>"
      ]
     },
     "metadata": {
      "needs_background": "light"
     },
     "output_type": "display_data"
    }
   ],
   "source": [
    "sns.displot(df[df[\"exercised_stock_options\"]<=0.5*1e8][\"exercised_stock_options\"])"
   ]
  },
  {
   "cell_type": "markdown",
   "id": "8bf72c76",
   "metadata": {},
   "source": [
    "Despesas efetuadas pelos empregados. Concentração de valores entre 0 75.000. Depois uma queda acentuadas nas despesas. Também foram eliminados os outliers.Distribuição possui uma assimetria positiva."
   ]
  },
  {
   "cell_type": "code",
   "execution_count": 17,
   "id": "35f48ee5",
   "metadata": {},
   "outputs": [
    {
     "data": {
      "text/plain": [
       "<seaborn.axisgrid.FacetGrid at 0x7fdc23fa6160>"
      ]
     },
     "execution_count": 17,
     "metadata": {},
     "output_type": "execute_result"
    },
    {
     "data": {
      "image/png": "[encoded data removed]",
      "text/plain": [
       "<Figure size 360x360 with 1 Axes>"
      ]
     },
     "metadata": {
      "needs_background": "light"
     },
     "output_type": "display_data"
    }
   ],
   "source": [
    "sns.displot(df[df[\"expenses\"]<=1*1e6][\"expenses\"])"
   ]
  },
  {
   "cell_type": "markdown",
   "id": "dc699a50",
   "metadata": {},
   "source": [
    "Mensagens enviadas. A maior parte dos funcionários enviava número bem baixo de mensagens."
   ]
  },
  {
   "cell_type": "code",
   "execution_count": 18,
   "id": "a20c2252",
   "metadata": {},
   "outputs": [
    {
     "data": {
      "text/plain": [
       "<seaborn.axisgrid.FacetGrid at 0x7fdc23e07130>"
      ]
     },
     "execution_count": 18,
     "metadata": {},
     "output_type": "execute_result"
    },
    {
     "data": {
      "image/png": "[encoded data removed]",
      "text/plain": [
       "<Figure size 360x360 with 1 Axes>"
      ]
     },
     "metadata": {
      "needs_background": "light"
     },
     "output_type": "display_data"
    }
   ],
   "source": [
    "sns.displot(df[df[\"from_messages\"]<=8000][\"from_messages\"])"
   ]
  },
  {
   "cell_type": "markdown",
   "id": "f8eba55c",
   "metadata": {},
   "source": [
    "Grande numero de mensagens recebidas de \"POI\" com valores um pouco superiores a zero. Distribuição possui uma assimetria positiva."
   ]
  },
  {
   "cell_type": "code",
   "execution_count": 19,
   "id": "b372b97f",
   "metadata": {},
   "outputs": [
    {
     "data": {
      "text/plain": [
       "<seaborn.axisgrid.FacetGrid at 0x7fdc23c566d0>"
      ]
     },
     "execution_count": 19,
     "metadata": {},
     "output_type": "execute_result"
    },
    {
     "data": {
      "image/png": "[encoded data removed]",
      "text/plain": [
       "<Figure size 360x360 with 1 Axes>"
      ]
     },
     "metadata": {
      "needs_background": "light"
     },
     "output_type": "display_data"
    }
   ],
   "source": [
    "sns.displot(df[\"from_poi_to_this_person\"])"
   ]
  },
  {
   "cell_type": "markdown",
   "id": "8a9fd921",
   "metadata": {},
   "source": [
    "Grande numero de mensagens enviadas a \"POI\" com valores um pouco superiores a zero."
   ]
  },
  {
   "cell_type": "code",
   "execution_count": 20,
   "id": "949198b4",
   "metadata": {},
   "outputs": [
    {
     "data": {
      "text/plain": [
       "<seaborn.axisgrid.FacetGrid at 0x7fdc23edf070>"
      ]
     },
     "execution_count": 20,
     "metadata": {},
     "output_type": "execute_result"
    },
    {
     "data": {
      "image/png": "[encoded data removed]",
      "text/plain": [
       "<Figure size 360x360 with 1 Axes>"
      ]
     },
     "metadata": {
      "needs_background": "light"
     },
     "output_type": "display_data"
    }
   ],
   "source": [
    "sns.displot(df[\"from_this_person_to_poi\"])"
   ]
  },
  {
   "cell_type": "markdown",
   "id": "95f26427",
   "metadata": {},
   "source": [
    "Somente 4 pessoas fizeram adiantamentos de empréstismo. O gráfico acaba por não dizer muita coisa. "
   ]
  },
  {
   "cell_type": "code",
   "execution_count": 21,
   "id": "e209d582",
   "metadata": {},
   "outputs": [
    {
     "data": {
      "text/plain": [
       "<seaborn.axisgrid.FacetGrid at 0x7fdc23f20490>"
      ]
     },
     "execution_count": 21,
     "metadata": {},
     "output_type": "execute_result"
    },
    {
     "data": {
      "image/png": "[encoded data removed]",
      "text/plain": [
       "<Figure size 360x360 with 1 Axes>"
      ]
     },
     "metadata": {
      "needs_background": "light"
     },
     "output_type": "display_data"
    }
   ],
   "source": [
    "sns.displot(df[\"loan_advances\"])"
   ]
  },
  {
   "cell_type": "markdown",
   "id": "e8b0df2b",
   "metadata": {},
   "source": [
    "Incentivos de longo tempo concentrados em valores mais baixos. Foram retirados os outliers. Distribuição possui uma assimetria positiva."
   ]
  },
  {
   "cell_type": "code",
   "execution_count": 22,
   "id": "2ccfba3d",
   "metadata": {},
   "outputs": [
    {
     "data": {
      "text/plain": [
       "<seaborn.axisgrid.FacetGrid at 0x7fdc23e15be0>"
      ]
     },
     "execution_count": 22,
     "metadata": {},
     "output_type": "execute_result"
    },
    {
     "data": {
      "image/png": "[encoded data removed]",
      "text/plain": [
       "<Figure size 360x360 with 1 Axes>"
      ]
     },
     "metadata": {
      "needs_background": "light"
     },
     "output_type": "display_data"
    }
   ],
   "source": [
    "sns.displot(df[df[\"long_term_incentive\"]<1*1e7][\"long_term_incentive\"])"
   ]
  },
  {
   "cell_type": "markdown",
   "id": "bc577fac",
   "metadata": {},
   "source": [
    "other"
   ]
  },
  {
   "cell_type": "code",
   "execution_count": 23,
   "id": "71d2118a",
   "metadata": {},
   "outputs": [
    {
     "data": {
      "text/plain": [
       "<seaborn.axisgrid.FacetGrid at 0x7fdc23b60ee0>"
      ]
     },
     "execution_count": 23,
     "metadata": {},
     "output_type": "execute_result"
    },
    {
     "data": {
      "image/png": "[encoded data removed]",
      "text/plain": [
       "<Figure size 360x360 with 1 Axes>"
      ]
     },
     "metadata": {
      "needs_background": "light"
     },
     "output_type": "display_data"
    }
   ],
   "source": [
    "sns.displot(df[df[\"other\"]<2*1e7][\"other\"])"
   ]
  },
  {
   "cell_type": "markdown",
   "id": "eaf0057f",
   "metadata": {},
   "source": [
    "Ações restritas variando positiva e negativamente próximo de 0. Foram eliminados os outliers"
   ]
  },
  {
   "cell_type": "code",
   "execution_count": 24,
   "id": "6ae510c0",
   "metadata": {
    "scrolled": false
   },
   "outputs": [
    {
     "data": {
      "text/plain": [
       "<seaborn.axisgrid.FacetGrid at 0x7fdc2b02d9d0>"
      ]
     },
     "execution_count": 24,
     "metadata": {},
     "output_type": "execute_result"
    },
    {
     "data": {
      "image/png": "[encoded data removed]",
      "text/plain": [
       "<Figure size 360x360 with 1 Axes>"
      ]
     },
     "metadata": {
      "needs_background": "light"
     },
     "output_type": "display_data"
    }
   ],
   "source": [
    "sns.displot(df[df[\"restricted_stock\"]<1.2*1e8][\"restricted_stock\"])"
   ]
  },
  {
   "cell_type": "markdown",
   "id": "6f557f9d",
   "metadata": {},
   "source": [
    "Utilizado por poucas pessoas. Concentração próximo de 0."
   ]
  },
  {
   "cell_type": "code",
   "execution_count": 25,
   "id": "17764a36",
   "metadata": {},
   "outputs": [
    {
     "data": {
      "text/plain": [
       "<seaborn.axisgrid.FacetGrid at 0x7fdc2385ed00>"
      ]
     },
     "execution_count": 25,
     "metadata": {},
     "output_type": "execute_result"
    },
    {
     "data": {
      "image/png": "[encoded data removed]",
      "text/plain": [
       "<Figure size 360x360 with 1 Axes>"
      ]
     },
     "metadata": {
      "needs_background": "light"
     },
     "output_type": "display_data"
    }
   ],
   "source": [
    "sns.displot(df[\"restricted_stock_deferred\"])"
   ]
  },
  {
   "cell_type": "markdown",
   "id": "fb5ab786",
   "metadata": {},
   "source": [
    "Salários concentram-se entre valores mais baixos. Foram removidos os outliers"
   ]
  },
  {
   "cell_type": "code",
   "execution_count": 26,
   "id": "eeb7454c",
   "metadata": {},
   "outputs": [
    {
     "data": {
      "text/plain": [
       "<seaborn.axisgrid.FacetGrid at 0x7fdc236b5910>"
      ]
     },
     "execution_count": 26,
     "metadata": {},
     "output_type": "execute_result"
    },
    {
     "data": {
      "image/png": "[encoded data removed]",
      "text/plain": [
       "<Figure size 360x360 with 1 Axes>"
      ]
     },
     "metadata": {
      "needs_background": "light"
     },
     "output_type": "display_data"
    }
   ],
   "source": [
    "sns.displot(df[df[\"salary\"]<2.5*1e7][\"salary\"])"
   ]
  },
  {
   "cell_type": "markdown",
   "id": "681ec554",
   "metadata": {},
   "source": [
    "Os recibos divididos com pessoas interessadas foi maior entre valores mais baixos, próximos de 0. Diminuem consideravelmente a medida que os valores aumentam.Distribuição possui uma assimetria positiva."
   ]
  },
  {
   "cell_type": "code",
   "execution_count": 27,
   "id": "4e35e338",
   "metadata": {},
   "outputs": [
    {
     "data": {
      "text/plain": [
       "<seaborn.axisgrid.FacetGrid at 0x7fdc23ad8f10>"
      ]
     },
     "execution_count": 27,
     "metadata": {},
     "output_type": "execute_result"
    },
    {
     "data": {
      "image/png": "[encoded data removed]",
      "text/plain": [
       "<Figure size 360x360 with 1 Axes>"
      ]
     },
     "metadata": {
      "needs_background": "light"
     },
     "output_type": "display_data"
    }
   ],
   "source": [
    "sns.displot(df[\"shared_receipt_with_poi\"])"
   ]
  },
  {
   "cell_type": "code",
   "execution_count": 28,
   "id": "04047dfb",
   "metadata": {},
   "outputs": [
    {
     "data": {
      "text/plain": [
       "<AxesSubplot:xlabel='to_messages', ylabel='Count'>"
      ]
     },
     "execution_count": 28,
     "metadata": {},
     "output_type": "execute_result"
    },
    {
     "data": {
      "image/png": "[encoded data removed]",
      "text/plain": [
       "<Figure size 432x288 with 1 Axes>"
      ]
     },
     "metadata": {
      "needs_background": "light"
     },
     "output_type": "display_data"
    }
   ],
   "source": [
    "sns.histplot(df[\"to_messages\"])"
   ]
  },
  {
   "cell_type": "markdown",
   "id": "807bdb5e",
   "metadata": {},
   "source": [
    "Total de pagamentos maiores entre valores menores. Foram excluídos os outliers.Distribuição possui uma assimetria positiva."
   ]
  },
  {
   "cell_type": "code",
   "execution_count": 29,
   "id": "af7f53d9",
   "metadata": {},
   "outputs": [
    {
     "data": {
      "text/plain": [
       "<seaborn.axisgrid.FacetGrid at 0x7fdc23543160>"
      ]
     },
     "execution_count": 29,
     "metadata": {},
     "output_type": "execute_result"
    },
    {
     "data": {
      "image/png": "[encoded data removed]",
      "text/plain": [
       "<Figure size 360x360 with 1 Axes>"
      ]
     },
     "metadata": {
      "needs_background": "light"
     },
     "output_type": "display_data"
    }
   ],
   "source": [
    "sns.displot(df[df[\"total_payments\"]< 0.5*1e8][\"total_payments\"])"
   ]
  },
  {
   "cell_type": "markdown",
   "id": "be95948c",
   "metadata": {},
   "source": [
    "## 4. Analise Multivariada de Dados\n",
    "Procuraremos encontrar a relação entre algumas informações apresentadas no dataset e \"POI's\". O objetivo é buscar encontrar quais características nos ajudam a determinar a probabilidade de alguem ser ou não um \"POI\""
   ]
  },
  {
   "cell_type": "markdown",
   "id": "3ce36178",
   "metadata": {},
   "source": [
    "Aparentemente não há correlação entre POI e Bonus"
   ]
  },
  {
   "cell_type": "code",
   "execution_count": 30,
   "id": "f39f8e0c",
   "metadata": {
    "scrolled": true
   },
   "outputs": [
    {
     "data": {
      "text/plain": [
       "<AxesSubplot:xlabel='bonus', ylabel='Count'>"
      ]
     },
     "execution_count": 30,
     "metadata": {},
     "output_type": "execute_result"
    },
    {
     "data": {
      "image/png": "[encoded data removed]",
      "text/plain": [
       "<Figure size 432x288 with 1 Axes>"
      ]
     },
     "metadata": {
      "needs_background": "light"
     },
     "output_type": "display_data"
    }
   ],
   "source": [
    "sns.histplot(data = df[df[\"bonus\"] <= 0.5*1e8], x = \"bonus\" , hue = \"poi\")"
   ]
  },
  {
   "cell_type": "markdown",
   "id": "56509c53",
   "metadata": {},
   "source": [
    "Aparentemente não há correlação entre POI e adiantemento de pagamentos. "
   ]
  },
  {
   "cell_type": "code",
   "execution_count": 31,
   "id": "c1a6475c",
   "metadata": {},
   "outputs": [
    {
     "data": {
      "text/plain": [
       "<AxesSubplot:xlabel='deferral_payments', ylabel='Count'>"
      ]
     },
     "execution_count": 31,
     "metadata": {},
     "output_type": "execute_result"
    },
    {
     "data": {
      "image/png": "[encoded data removed]",
      "text/plain": [
       "<Figure size 432x288 with 1 Axes>"
      ]
     },
     "metadata": {
      "needs_background": "light"
     },
     "output_type": "display_data"
    }
   ],
   "source": [
    "sns.histplot(data = df[df[\"deferral_payments\"]<=1*1e7], x = \"deferral_payments\", hue = \"poi\")"
   ]
  },
  {
   "cell_type": "markdown",
   "id": "1289bb2b",
   "metadata": {},
   "source": [
    "Aparentamente há uma correlação entre adiantamento de pagamentos e POI."
   ]
  },
  {
   "cell_type": "code",
   "execution_count": 32,
   "id": "5d244377",
   "metadata": {},
   "outputs": [
    {
     "data": {
      "text/plain": [
       "<AxesSubplot:xlabel='deferred_income', ylabel='Count'>"
      ]
     },
     "execution_count": 32,
     "metadata": {},
     "output_type": "execute_result"
    },
    {
     "data": {
      "image/png": "[encoded data removed]",
      "text/plain": [
       "<Figure size 432x288 with 1 Axes>"
      ]
     },
     "metadata": {
      "needs_background": "light"
     },
     "output_type": "display_data"
    }
   ],
   "source": [
    "sns.histplot(data = df[df[\"deferred_income\"]>=-0.5*1e7], x = \"deferred_income\", hue = \"poi\")"
   ]
  },
  {
   "cell_type": "markdown",
   "id": "060031fc",
   "metadata": {},
   "source": [
    "Nenhum POI recebeu honorário de diretor."
   ]
  },
  {
   "cell_type": "code",
   "execution_count": 33,
   "id": "706cf7b2",
   "metadata": {},
   "outputs": [
    {
     "data": {
      "text/plain": [
       "<AxesSubplot:xlabel='director_fees', ylabel='Count'>"
      ]
     },
     "execution_count": 33,
     "metadata": {},
     "output_type": "execute_result"
    },
    {
     "data": {
      "image/png": "[encoded data removed]",
      "text/plain": [
       "<Figure size 432x288 with 1 Axes>"
      ]
     },
     "metadata": {
      "needs_background": "light"
     },
     "output_type": "display_data"
    }
   ],
   "source": [
    "sns.histplot(data = df[df[\"director_fees\"]<= 1.0*1e6], x = \"director_fees\", hue = \"poi\")"
   ]
  },
  {
   "cell_type": "markdown",
   "id": "a0d80a21",
   "metadata": {},
   "source": [
    "Há uma correlação, aparentemente, entre exercer opção de compra de ações e POI."
   ]
  },
  {
   "cell_type": "code",
   "execution_count": 34,
   "id": "396152d4",
   "metadata": {},
   "outputs": [
    {
     "data": {
      "text/plain": [
       "<AxesSubplot:xlabel='exercised_stock_options', ylabel='Count'>"
      ]
     },
     "execution_count": 34,
     "metadata": {},
     "output_type": "execute_result"
    },
    {
     "data": {
      "image/png": "[encoded data removed]",
      "text/plain": [
       "<Figure size 432x288 with 1 Axes>"
      ]
     },
     "metadata": {
      "needs_background": "light"
     },
     "output_type": "display_data"
    }
   ],
   "source": [
    "sns.histplot(data = df[df[\"exercised_stock_options\"]<=0.5*1e8], x = \"exercised_stock_options\", hue = \"poi\")"
   ]
  },
  {
   "cell_type": "markdown",
   "id": "2c698cf5",
   "metadata": {},
   "source": [
    "Entre as despesas mais altas não há POI."
   ]
  },
  {
   "cell_type": "code",
   "execution_count": 35,
   "id": "c22d1394",
   "metadata": {},
   "outputs": [
    {
     "data": {
      "text/plain": [
       "<AxesSubplot:xlabel='expenses', ylabel='Count'>"
      ]
     },
     "execution_count": 35,
     "metadata": {},
     "output_type": "execute_result"
    },
    {
     "data": {
      "image/png": "[encoded data removed]",
      "text/plain": [
       "<Figure size 432x288 with 1 Axes>"
      ]
     },
     "metadata": {
      "needs_background": "light"
     },
     "output_type": "display_data"
    }
   ],
   "source": [
    "sns.histplot(data =df[df[\"expenses\"]<=1*1e6], x = \"expenses\", hue = \"poi\")"
   ]
  },
  {
   "cell_type": "markdown",
   "id": "920c10f1",
   "metadata": {},
   "source": [
    "Aparentemente não há correlação entre envio de mensagem e \"POI\""
   ]
  },
  {
   "cell_type": "code",
   "execution_count": 36,
   "id": "de9bb927",
   "metadata": {},
   "outputs": [
    {
     "data": {
      "text/plain": [
       "<AxesSubplot:xlabel='from_messages', ylabel='Count'>"
      ]
     },
     "execution_count": 36,
     "metadata": {},
     "output_type": "execute_result"
    },
    {
     "data": {
      "image/png": "[encoded data removed]",
      "text/plain": [
       "<Figure size 432x288 with 1 Axes>"
      ]
     },
     "metadata": {
      "needs_background": "light"
     },
     "output_type": "display_data"
    }
   ],
   "source": [
    "sns.histplot(data = df[df[\"from_messages\"]<=8000], x = \"from_messages\", hue = \"poi\")"
   ]
  },
  {
   "cell_type": "markdown",
   "id": "312eb787",
   "metadata": {},
   "source": [
    "Aparentemente não há correlação entre receber mensagens de \"POI\" e ser um;"
   ]
  },
  {
   "cell_type": "code",
   "execution_count": 37,
   "id": "ad3cb045",
   "metadata": {},
   "outputs": [
    {
     "data": {
      "text/plain": [
       "<AxesSubplot:xlabel='from_poi_to_this_person', ylabel='Count'>"
      ]
     },
     "execution_count": 37,
     "metadata": {},
     "output_type": "execute_result"
    },
    {
     "data": {
      "image/png": "[encoded data removed]",
      "text/plain": [
       "<Figure size 432x288 with 1 Axes>"
      ]
     },
     "metadata": {
      "needs_background": "light"
     },
     "output_type": "display_data"
    }
   ],
   "source": [
    "sns.histplot(data = df, x = \"from_poi_to_this_person\", hue = \"poi\")"
   ]
  },
  {
   "cell_type": "markdown",
   "id": "8d971ae8",
   "metadata": {},
   "source": [
    "Aparentemente não há correlação entre enviar mensagem a \"POI\" e ser um"
   ]
  },
  {
   "cell_type": "code",
   "execution_count": 38,
   "id": "4ae6a99b",
   "metadata": {
    "scrolled": false
   },
   "outputs": [
    {
     "data": {
      "text/plain": [
       "<seaborn.axisgrid.FacetGrid at 0x7fdc22cb86d0>"
      ]
     },
     "execution_count": 38,
     "metadata": {},
     "output_type": "execute_result"
    },
    {
     "data": {
      "image/png": "[encoded data removed]",
      "text/plain": [
       "<Figure size 421.25x360 with 1 Axes>"
      ]
     },
     "metadata": {
      "needs_background": "light"
     },
     "output_type": "display_data"
    }
   ],
   "source": [
    "sns.displot(data = df, x = \"from_this_person_to_poi\", hue = \"poi\")"
   ]
  },
  {
   "cell_type": "markdown",
   "id": "7ca051c3",
   "metadata": {},
   "source": [
    "Aarentemente não há correlação entre incentivos de longo prazo e \"POI\""
   ]
  },
  {
   "cell_type": "code",
   "execution_count": 39,
   "id": "5bc175cb",
   "metadata": {},
   "outputs": [
    {
     "data": {
      "text/plain": [
       "<AxesSubplot:xlabel='long_term_incentive', ylabel='Count'>"
      ]
     },
     "execution_count": 39,
     "metadata": {},
     "output_type": "execute_result"
    },
    {
     "data": {
      "image/png": "[encoded data removed]",
      "text/plain": [
       "<Figure size 432x288 with 1 Axes>"
      ]
     },
     "metadata": {
      "needs_background": "light"
     },
     "output_type": "display_data"
    }
   ],
   "source": [
    "sns.histplot(data = df[df[\"long_term_incentive\"]<1*1e7], x = \"long_term_incentive\", hue = \"poi\")"
   ]
  },
  {
   "cell_type": "markdown",
   "id": "4c22f6ad",
   "metadata": {},
   "source": [
    "Aparentemente não há correlação entre ações restritas e \"POI\""
   ]
  },
  {
   "cell_type": "code",
   "execution_count": 40,
   "id": "a2cf4855",
   "metadata": {},
   "outputs": [
    {
     "data": {
      "text/plain": [
       "<AxesSubplot:xlabel='restricted_stock', ylabel='Count'>"
      ]
     },
     "execution_count": 40,
     "metadata": {},
     "output_type": "execute_result"
    },
    {
     "data": {
      "image/png": "[encoded data removed]",
      "text/plain": [
       "<Figure size 432x288 with 1 Axes>"
      ]
     },
     "metadata": {
      "needs_background": "light"
     },
     "output_type": "display_data"
    }
   ],
   "source": [
    "sns.histplot(data =df[df[\"restricted_stock\"]<1.2*1e8], x = \"restricted_stock\", hue = \"poi\")"
   ]
  },
  {
   "cell_type": "markdown",
   "id": "a5df781c",
   "metadata": {},
   "source": [
    "Nenhum funcionário com adiamento de ações restritas era \"POI\""
   ]
  },
  {
   "cell_type": "code",
   "execution_count": 41,
   "id": "f6f59106",
   "metadata": {},
   "outputs": [
    {
     "data": {
      "text/plain": [
       "<AxesSubplot:xlabel='restricted_stock_deferred', ylabel='Count'>"
      ]
     },
     "execution_count": 41,
     "metadata": {},
     "output_type": "execute_result"
    },
    {
     "data": {
      "image/png": "[encoded data removed]",
      "text/plain": [
       "<Figure size 432x288 with 1 Axes>"
      ]
     },
     "metadata": {
      "needs_background": "light"
     },
     "output_type": "display_data"
    }
   ],
   "source": [
    "sns.histplot(data = df, x = \"restricted_stock_deferred\", hue = \"poi\")"
   ]
  },
  {
   "cell_type": "markdown",
   "id": "0ecb88c5",
   "metadata": {},
   "source": [
    "Aparentemente, não há correlação entra salário e \"POI\""
   ]
  },
  {
   "cell_type": "code",
   "execution_count": 42,
   "id": "b9d19cef",
   "metadata": {},
   "outputs": [
    {
     "data": {
      "text/plain": [
       "<AxesSubplot:xlabel='salary', ylabel='Count'>"
      ]
     },
     "execution_count": 42,
     "metadata": {},
     "output_type": "execute_result"
    },
    {
     "data": {
      "image/png": "[encoded data removed]",
      "text/plain": [
       "<Figure size 432x288 with 1 Axes>"
      ]
     },
     "metadata": {
      "needs_background": "light"
     },
     "output_type": "display_data"
    }
   ],
   "source": [
    "sns.histplot(data = df[df[\"salary\"]<2.5*1e7], x = \"salary\", hue = \"poi\")"
   ]
  },
  {
   "cell_type": "markdown",
   "id": "2a833080",
   "metadata": {},
   "source": [
    "Aparentemente, não há correlação entra recibos dividos com \"POI\" e \"POI\""
   ]
  },
  {
   "cell_type": "code",
   "execution_count": 43,
   "id": "b0d36f44",
   "metadata": {},
   "outputs": [
    {
     "data": {
      "text/plain": [
       "<AxesSubplot:xlabel='shared_receipt_with_poi', ylabel='Count'>"
      ]
     },
     "execution_count": 43,
     "metadata": {},
     "output_type": "execute_result"
    },
    {
     "data": {
      "image/png": "[encoded data removed]",
      "text/plain": [
       "<Figure size 432x288 with 1 Axes>"
      ]
     },
     "metadata": {
      "needs_background": "light"
     },
     "output_type": "display_data"
    }
   ],
   "source": [
    "sns.histplot(data = df, x = \"shared_receipt_with_poi\", hue = \"poi\")"
   ]
  },
  {
   "cell_type": "markdown",
   "id": "bb798617",
   "metadata": {},
   "source": [
    "Os maiores pagamentos não são \"POI\""
   ]
  },
  {
   "cell_type": "code",
   "execution_count": 44,
   "id": "0be6972e",
   "metadata": {},
   "outputs": [
    {
     "data": {
      "text/plain": [
       "<AxesSubplot:xlabel='total_payments', ylabel='Count'>"
      ]
     },
     "execution_count": 44,
     "metadata": {},
     "output_type": "execute_result"
    },
    {
     "data": {
      "image/png": "[encoded data removed]",
      "text/plain": [
       "<Figure size 432x288 with 1 Axes>"
      ]
     },
     "metadata": {
      "needs_background": "light"
     },
     "output_type": "display_data"
    }
   ],
   "source": [
    "sns.histplot(data = df[df[\"total_payments\"]< 0.5*1e8], x = \"total_payments\", hue = \"poi\")"
   ]
  },
  {
   "cell_type": "markdown",
   "id": "56612ce5",
   "metadata": {},
   "source": [
    "## 5. Visualizações Efetivas \n",
    "Agora serão apresentadas 5 visualizações ja mostradas anteriormente. Serão melhorados alguns aspectos visuais para melhor compreensão.\n"
   ]
  },
  {
   "cell_type": "code",
   "execution_count": 45,
   "id": "89d890bf",
   "metadata": {
    "scrolled": false
   },
   "outputs": [
    {
     "data": {
      "text/plain": [
       "<AxesSubplot:title={'center':'Deferred_Income e POI'}, xlabel='deferred_income', ylabel='Count'>"
      ]
     },
     "execution_count": 45,
     "metadata": {},
     "output_type": "execute_result"
    },
    {
     "data": {
      "image/png": "[encoded data removed]",
      "text/plain": [
       "<Figure size 720x504 with 1 Axes>"
      ]
     },
     "metadata": {
      "needs_background": "light"
     },
     "output_type": "display_data"
    }
   ],
   "source": [
    "plt.figure(figsize=(10,7))\n",
    "plt.title(\"Deferred_Income e \"\"POI\"\"\")\n",
    "sns.histplot(data = df[df[\"deferred_income\"]>=-0.5*1e7], x = \"deferred_income\", hue = \"poi\", bins = 10)"
   ]
  },
  {
   "cell_type": "code",
   "execution_count": 54,
   "id": "eab2426c",
   "metadata": {
    "scrolled": false
   },
   "outputs": [
    {
     "data": {
      "text/plain": [
       "Text(0.5, 1.0, 'Director fees e POI')"
      ]
     },
     "execution_count": 54,
     "metadata": {},
     "output_type": "execute_result"
    },
    {
     "data": {
      "image/png": "[encoded data removed]",
      "text/plain": [
       "<Figure size 720x504 with 1 Axes>"
      ]
     },
     "metadata": {
      "needs_background": "light"
     },
     "output_type": "display_data"
    }
   ],
   "source": [
    "plt.figure(figsize=(10,7))\n",
    "sns.histplot(data = df[df[\"director_fees\"]<= 1.0*1e6], x = \"director_fees\", hue = \"poi\", bins = 6)\n",
    "plt.title(\"Director fees e \"\"POI\"\"\")"
   ]
  },
  {
   "cell_type": "code",
   "execution_count": 58,
   "id": "efc6a4b1",
   "metadata": {
    "scrolled": false
   },
   "outputs": [
    {
     "data": {
      "text/plain": [
       "Text(0.5, 1.0, 'Exercides stock options e POI')"
      ]
     },
     "execution_count": 58,
     "metadata": {},
     "output_type": "execute_result"
    },
    {
     "data": {
      "image/png": "[encoded data removed]",
      "text/plain": [
       "<Figure size 1080x504 with 1 Axes>"
      ]
     },
     "metadata": {
      "needs_background": "light"
     },
     "output_type": "display_data"
    }
   ],
   "source": [
    "plt.figure(figsize=(15,7))\n",
    "sns.histplot(data = df[df[\"exercised_stock_options\"]<=0.5*1e8], x = \"exercised_stock_options\", hue = \"poi\", bins= 10)\n",
    "plt.title(\"Exercised stock options e \"\"POI\"\"\")"
   ]
  },
  {
   "cell_type": "code",
   "execution_count": 61,
   "id": "b91027a0",
   "metadata": {},
   "outputs": [
    {
     "data": {
      "text/plain": [
       "Text(0.5, 1.0, 'restricted_stock_deferred e POI')"
      ]
     },
     "execution_count": 61,
     "metadata": {},
     "output_type": "execute_result"
    },
    {
     "data": {
      "image/png": "[encoded data removed]",
      "text/plain": [
       "<Figure size 576x648 with 1 Axes>"
      ]
     },
     "metadata": {
      "needs_background": "light"
     },
     "output_type": "display_data"
    }
   ],
   "source": [
    "plt.figure(figsize=(8,9))\n",
    "sns.histplot(data = df, x = \"restricted_stock_deferred\", hue = \"poi\")\n",
    "plt.title(\"restricted_stock_deferred e \"\"POI\"\"\")"
   ]
  },
  {
   "cell_type": "code",
   "execution_count": 62,
   "id": "7aa3d55e",
   "metadata": {
    "scrolled": false
   },
   "outputs": [
    {
     "data": {
      "text/plain": [
       "Text(0.5, 1.0, 'expenses e POI')"
      ]
     },
     "execution_count": 62,
     "metadata": {},
     "output_type": "execute_result"
    },
    {
     "data": {
      "image/png": "[encoded data removed]",
      "text/plain": [
       "<Figure size 1152x576 with 1 Axes>"
      ]
     },
     "metadata": {
      "needs_background": "light"
     },
     "output_type": "display_data"
    }
   ],
   "source": [
    "plt.figure(figsize=(16,8))\n",
    "sns.histplot(data =df[df[\"expenses\"]<=1*1e6], x = \"expenses\", hue = \"poi\")\n",
    "plt.title(\"Expenses e \"\"POI\"\"\")"
   ]
  },
  {
   "cell_type": "markdown",
   "id": "011b5590",
   "metadata": {},
   "source": [
    "## 6. Conclusões\n",
    "\n",
    "É complexo tirar soluções aprofundadas das analises até aqui feitas, precisariamos de modelos que ultrapassassem uma simples análise exploratória de dados e visualizações. Entretanto podemos ter alguns insights. \n",
    "1) Não há correlação entre os maiores salários e bonus e as participações na fraude, ao contrário do que poderia ser suposto. Existem \"POI's\" em todos os níveis saláriais e de bonus. \n",
    "2) Poucos diretores participam das fraudes. \n",
    "3) Há mais fraudadores entre aqueles que exercem opções de compra das ações.\n",
    "4) Não há fraudadores entre aqueles que adiaram opções de compra de ações restritas.\n",
    "\n",
    "A impressão que fica após essas análises é que funcionarários menos preocupados com o futuro da empresa, ou que a forma como rebeceriam dinheiro não dependesse do futuro da Enron seriam mais propensos a participar das fraudes."
   ]
  },
  {
   "cell_type": "markdown",
   "id": "3ac5fc52",
   "metadata": {},
   "source": [
    "## Reflexão\n",
    "Foi possível desenvolver habilidades com ferramentas fundamentais na análise de dados, como Numpy e Pandas, além de outras bastante importantes na visualização de dados, como Matplotlib e Seaborn. O uso de uma base de dados real ajudou a ver na prática como as bibliotecas auxiliam a compreender um caso bastante complexo. \n",
    "Acredito que precisaria de mais tempo para aprender a utilizar melhor as ferramentas e fazer análises mais aprofundadas. "
   ]
  }
 ],
 "metadata": {
  "kernelspec": {
   "display_name": "Python 3",
   "language": "python",
   "name": "python3"
  },
  "language_info": {
   "codemirror_mode": {
    "name": "ipython",
    "version": 3
   },
   "file_extension": ".py",
   "mimetype": "text/x-python",
   "name": "python",
   "nbconvert_exporter": "python",
   "pygments_lexer": "ipython3",
   "version": "3.8.8"
  }
 },
 "nbformat": 4,
 "nbformat_minor": 5
}
